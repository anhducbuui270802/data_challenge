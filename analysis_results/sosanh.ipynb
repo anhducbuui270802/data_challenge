{
 "cells": [
  {
   "cell_type": "code",
   "execution_count": 14,
   "metadata": {},
   "outputs": [],
   "source": [
    "import json\n",
    "import numpy as np\n",
    "import pandas as pd\n",
    "pd.set_option('display.max_colwidth', None)\n",
    "pd.set_option('display.expand_frame_repr', False)"
   ]
  },
  {
   "cell_type": "code",
   "execution_count": 15,
   "metadata": {},
   "outputs": [],
   "source": [
    "def converdf(data):\n",
    "    sample = []\n",
    "    for id, item in data.items():\n",
    "        data_sample = {}\n",
    "        data_sample['id'] = id\n",
    "        data_sample['verdict'] = item['verdict']\n",
    "        data_sample['evidence'] = item['evidence']\n",
    "        sample.append(data_sample)\n",
    "\n",
    "    return pd.DataFrame(sample)\n"
   ]
  },
  {
   "cell_type": "code",
   "execution_count": 16,
   "metadata": {},
   "outputs": [],
   "source": [
    "result = \"D:\\\\DUCBUI\\\\DSC\\\\dsc\\\\results\\\\public_result.json\"\n",
    "new = \"D:\\\\DUCBUI\\\\DSC\\\\dsc\\\\public_result.json\"\n",
    "best = \"D:\\\\DUCBUI\\\\DSC\\\\dsc\\\\results_best\\\\public_result.json\"\n",
    "with open(result) as file:\n",
    "    data = json.load(file)\n",
    "result = converdf(data)\n",
    "\n",
    "with open(best) as file:\n",
    "    data = json.load(file)\n",
    "best = converdf(data)\n",
    "\n",
    "with open(new) as file:\n",
    "    data = json.load(file)\n",
    "new = converdf(data)"
   ]
  },
  {
   "cell_type": "code",
   "execution_count": 17,
   "metadata": {},
   "outputs": [
    {
     "data": {
      "text/html": [
       "<div>\n",
       "<style scoped>\n",
       "    .dataframe tbody tr th:only-of-type {\n",
       "        vertical-align: middle;\n",
       "    }\n",
       "\n",
       "    .dataframe tbody tr th {\n",
       "        vertical-align: top;\n",
       "    }\n",
       "\n",
       "    .dataframe thead th {\n",
       "        text-align: right;\n",
       "    }\n",
       "</style>\n",
       "<table border=\"1\" class=\"dataframe\">\n",
       "  <thead>\n",
       "    <tr style=\"text-align: right;\">\n",
       "      <th></th>\n",
       "      <th>id</th>\n",
       "      <th>verdict</th>\n",
       "      <th>evidence</th>\n",
       "    </tr>\n",
       "  </thead>\n",
       "  <tbody>\n",
       "    <tr>\n",
       "      <th>0</th>\n",
       "      <td>29706</td>\n",
       "      <td>SUPPORTED</td>\n",
       "      <td>như bệnh nhân trên bác sĩ đã tư vấn về di truyền cho cả gia đình lên kế hoạch điều trị cũng như tầm soát sớm tất cả thành viên</td>\n",
       "    </tr>\n",
       "    <tr>\n",
       "      <th>1</th>\n",
       "      <td>32454</td>\n",
       "      <td>REFUTED</td>\n",
       "      <td>tuy nhiên mba tập trung vào kỹ năng kinh doanh và quản lý</td>\n",
       "    </tr>\n",
       "    <tr>\n",
       "      <th>2</th>\n",
       "      <td>41947</td>\n",
       "      <td>SUPPORTED</td>\n",
       "      <td>trong khi tranh cãi còn chưa dứt về số tài liệu mật được cục điều tra liên bang mỹ ( fbi ) thu hồi từ dinh thự maralago của cựu tổng thống donald trump hồi năm ngoái chính trường mỹ tuần này lại một lần nữa xôn xao về những tài liệu đóng dấu mật không được bảo quản đúng nơi quy định</td>\n",
       "    </tr>\n",
       "    <tr>\n",
       "      <th>3</th>\n",
       "      <td>47909</td>\n",
       "      <td>REFUTED</td>\n",
       "      <td>tiệm há cảo của anh hùng có 8 vị nhân được làm từ nhiều nguyên liệu khác nhau như mực thịt bắp gà lá chanh thanh cua thịt bò thịt hẹ xíu mại trứng cút tôm thịt</td>\n",
       "    </tr>\n",
       "    <tr>\n",
       "      <th>4</th>\n",
       "      <td>46798</td>\n",
       "      <td>REFUTED</td>\n",
       "      <td>đầm sen công viên thực vật cảnh việt nam cách trung tâm thủ đô chừng 10 km công viên thực vật cảnh việt nam là nơi sở hữu hơn 2 nghìn loài hoa và các gốc thực vật khác nhau</td>\n",
       "    </tr>\n",
       "    <tr>\n",
       "      <th>...</th>\n",
       "      <td>...</td>\n",
       "      <td>...</td>\n",
       "      <td>...</td>\n",
       "    </tr>\n",
       "    <tr>\n",
       "      <th>4789</th>\n",
       "      <td>41870</td>\n",
       "      <td>SUPPORTED</td>\n",
       "      <td>trước đó truyền thông tây ban nha dẫn thông báo từ cơ quan phòng vệ dân sự nước này cho biết hai công dân việt nam ngày 25/6 bị bắt tại đảo mallorca thuộc quần đảo baleares tây ban nha với cáo buộc cưỡng hiếp một cô gái 17 tuổi quốc tịch anh</td>\n",
       "    </tr>\n",
       "    <tr>\n",
       "      <th>4790</th>\n",
       "      <td>47073</td>\n",
       "      <td>REFUTED</td>\n",
       "      <td>geos có thể phục vụ nghiên cứu hệ thống đại dương khí quyển phát thải carbon và giao thông ở độ phân giải cực cao</td>\n",
       "    </tr>\n",
       "    <tr>\n",
       "      <th>4791</th>\n",
       "      <td>46617</td>\n",
       "      <td>REFUTED</td>\n",
       "      <td>trong hành trình du khách sẽ được ngắm vịnh hạ long vịnh bái tử long đảo ngọc vừng quan lạn minh châu và toàn cảnh đảo cô tô từ trên cao</td>\n",
       "    </tr>\n",
       "    <tr>\n",
       "      <th>4792</th>\n",
       "      <td>46410</td>\n",
       "      <td>REFUTED</td>\n",
       "      <td>họ cũng lắp đặt những camera đặc biệt được thiết kế để kiểm tra đường ống nước nhằm tìm kiếm những ngóc ngách khó tiếp cận</td>\n",
       "    </tr>\n",
       "    <tr>\n",
       "      <th>4793</th>\n",
       "      <td>46737</td>\n",
       "      <td>REFUTED</td>\n",
       "      <td>chủ quan ông steven qin cho biết mình đang tặng phiếu cắt tóc miễn phí cho những người chi ít nhất 20 sgd để mua sầu riêng tại gian hàng tạm thời của ông</td>\n",
       "    </tr>\n",
       "  </tbody>\n",
       "</table>\n",
       "<p>4794 rows × 3 columns</p>\n",
       "</div>"
      ],
      "text/plain": [
       "         id    verdict                                                                                                                                                                                                                                                                                     evidence\n",
       "0     29706  SUPPORTED                                                                                                                                                               như bệnh nhân trên bác sĩ đã tư vấn về di truyền cho cả gia đình lên kế hoạch điều trị cũng như tầm soát sớm tất cả thành viên\n",
       "1     32454    REFUTED                                                                                                                                                                                                                                    tuy nhiên mba tập trung vào kỹ năng kinh doanh và quản lý\n",
       "2     41947  SUPPORTED  trong khi tranh cãi còn chưa dứt về số tài liệu mật được cục điều tra liên bang mỹ ( fbi ) thu hồi từ dinh thự maralago của cựu tổng thống donald trump hồi năm ngoái chính trường mỹ tuần này lại một lần nữa xôn xao về những tài liệu đóng dấu mật không được bảo quản đúng nơi quy định\n",
       "3     47909    REFUTED                                                                                                                              tiệm há cảo của anh hùng có 8 vị nhân được làm từ nhiều nguyên liệu khác nhau như mực thịt bắp gà lá chanh thanh cua thịt bò thịt hẹ xíu mại trứng cút tôm thịt\n",
       "4     46798    REFUTED                                                                                                                 đầm sen công viên thực vật cảnh việt nam cách trung tâm thủ đô chừng 10 km công viên thực vật cảnh việt nam là nơi sở hữu hơn 2 nghìn loài hoa và các gốc thực vật khác nhau\n",
       "...     ...        ...                                                                                                                                                                                                                                                                                          ...\n",
       "4789  41870  SUPPORTED                                            trước đó truyền thông tây ban nha dẫn thông báo từ cơ quan phòng vệ dân sự nước này cho biết hai công dân việt nam ngày 25/6 bị bắt tại đảo mallorca thuộc quần đảo baleares tây ban nha với cáo buộc cưỡng hiếp một cô gái 17 tuổi quốc tịch anh\n",
       "4790  47073    REFUTED                                                                                                                                                                            geos có thể phục vụ nghiên cứu hệ thống đại dương khí quyển phát thải carbon và giao thông ở độ phân giải cực cao\n",
       "4791  46617    REFUTED                                                                                                                                                     trong hành trình du khách sẽ được ngắm vịnh hạ long vịnh bái tử long đảo ngọc vừng quan lạn minh châu và toàn cảnh đảo cô tô từ trên cao\n",
       "4792  46410    REFUTED                                                                                                                                                                   họ cũng lắp đặt những camera đặc biệt được thiết kế để kiểm tra đường ống nước nhằm tìm kiếm những ngóc ngách khó tiếp cận\n",
       "4793  46737    REFUTED                                                                                                                                    chủ quan ông steven qin cho biết mình đang tặng phiếu cắt tóc miễn phí cho những người chi ít nhất 20 sgd để mua sầu riêng tại gian hàng tạm thời của ông\n",
       "\n",
       "[4794 rows x 3 columns]"
      ]
     },
     "execution_count": 17,
     "metadata": {},
     "output_type": "execute_result"
    }
   ],
   "source": [
    "result"
   ]
  },
  {
   "cell_type": "code",
   "execution_count": 18,
   "metadata": {},
   "outputs": [
    {
     "data": {
      "text/plain": [
       "verdict\n",
       "SUPPORTED    3210\n",
       "REFUTED      1584\n",
       "Name: count, dtype: int64"
      ]
     },
     "execution_count": 18,
     "metadata": {},
     "output_type": "execute_result"
    }
   ],
   "source": [
    "result.verdict.value_counts()"
   ]
  },
  {
   "cell_type": "code",
   "execution_count": 19,
   "metadata": {},
   "outputs": [
    {
     "data": {
      "text/html": [
       "<div>\n",
       "<style scoped>\n",
       "    .dataframe tbody tr th:only-of-type {\n",
       "        vertical-align: middle;\n",
       "    }\n",
       "\n",
       "    .dataframe tbody tr th {\n",
       "        vertical-align: top;\n",
       "    }\n",
       "\n",
       "    .dataframe thead th {\n",
       "        text-align: right;\n",
       "    }\n",
       "</style>\n",
       "<table border=\"1\" class=\"dataframe\">\n",
       "  <thead>\n",
       "    <tr style=\"text-align: right;\">\n",
       "      <th></th>\n",
       "      <th>id</th>\n",
       "      <th>verdict</th>\n",
       "      <th>evidence</th>\n",
       "    </tr>\n",
       "  </thead>\n",
       "  <tbody>\n",
       "    <tr>\n",
       "      <th>0</th>\n",
       "      <td>29706</td>\n",
       "      <td>SUPPORTED</td>\n",
       "      <td>Như bệnh nhân trên, bác sĩ đã tư vấn về di truyền cho cả gia đình, lên kế hoạch điều trị cũng như tầm soát sớm tất cả thành viên</td>\n",
       "    </tr>\n",
       "    <tr>\n",
       "      <th>1</th>\n",
       "      <td>32454</td>\n",
       "      <td>NEI</td>\n",
       "      <td></td>\n",
       "    </tr>\n",
       "    <tr>\n",
       "      <th>2</th>\n",
       "      <td>41947</td>\n",
       "      <td>SUPPORTED</td>\n",
       "      <td>Trong khi tranh cãi còn chưa dứt về số tài liệu mật được Cục Điều tra Liên bang Mỹ (FBI) thu hồi từ dinh thự Mar-a-Lago của cựu tổng thống Donald Trump hồi năm ngoái, chính trường Mỹ tuần này lại một lần nữa xôn xao về những tài liệu đóng dấu mật không được bảo quản đúng nơi quy định</td>\n",
       "    </tr>\n",
       "    <tr>\n",
       "      <th>3</th>\n",
       "      <td>47909</td>\n",
       "      <td>REFUTED</td>\n",
       "      <td>Tiệm há cảo của anh Hùng có 8 vị nhân, được làm từ nhiều nguyên liệu khác nhau như mực, thịt bắp, gà lá chanh, thanh cua, thịt bò, thịt hẹ, xíu mại trứng cút, tôm thịt.</td>\n",
       "    </tr>\n",
       "    <tr>\n",
       "      <th>4</th>\n",
       "      <td>46798</td>\n",
       "      <td>REFUTED</td>\n",
       "      <td>Đầm sen công viên thực vật cảnh Việt Nam\\n\\nCách trung tâm Thủ đô chừng 10km, công viên Thực vật cảnh Việt Nam là nơi sở hữu hơn 2 nghìn loài hoa và các gốc thực vật khác nhau.</td>\n",
       "    </tr>\n",
       "    <tr>\n",
       "      <th>...</th>\n",
       "      <td>...</td>\n",
       "      <td>...</td>\n",
       "      <td>...</td>\n",
       "    </tr>\n",
       "    <tr>\n",
       "      <th>4789</th>\n",
       "      <td>41870</td>\n",
       "      <td>SUPPORTED</td>\n",
       "      <td>Trước đó, truyền thông Tây Ban Nha dẫn thông báo từ cơ quan Phòng vệ Dân sự nước này cho biết hai công dân Việt Nam ngày 25/6 bị bắt tại đảo Mallorca, thuộc quần đảo Baleares, Tây Ban Nha, với cáo buộc cưỡng hiếp một cô gái 17 tuổi, quốc tịch Anh</td>\n",
       "    </tr>\n",
       "    <tr>\n",
       "      <th>4790</th>\n",
       "      <td>47073</td>\n",
       "      <td>REFUTED</td>\n",
       "      <td>GEOS có thể phục vụ nghiên cứu hệ thống đại dương - khí quyển, phát thải carbon và giao thông ở độ phân giải cực cao</td>\n",
       "    </tr>\n",
       "    <tr>\n",
       "      <th>4791</th>\n",
       "      <td>46617</td>\n",
       "      <td>REFUTED</td>\n",
       "      <td>Trong hành trình, du khách sẽ được ngắm vịnh Hạ Long, vịnh Bái Tử Long, Đảo Ngọc Vừng, Quan Lạn, Minh Châu và toàn cảnh đảo Cô Tô từ trên cao</td>\n",
       "    </tr>\n",
       "    <tr>\n",
       "      <th>4792</th>\n",
       "      <td>46410</td>\n",
       "      <td>REFUTED</td>\n",
       "      <td>Họ cũng lắp đặt những camera đặc biệt được thiết kế để kiểm tra đường ống nước nhằm tìm kiếm những ngóc ngách khó tiếp cận</td>\n",
       "    </tr>\n",
       "    <tr>\n",
       "      <th>4793</th>\n",
       "      <td>46737</td>\n",
       "      <td>NEI</td>\n",
       "      <td></td>\n",
       "    </tr>\n",
       "  </tbody>\n",
       "</table>\n",
       "<p>4794 rows × 3 columns</p>\n",
       "</div>"
      ],
      "text/plain": [
       "         id    verdict                                                                                                                                                                                                                                                                                      evidence\n",
       "0     29706  SUPPORTED                                                                                                                                                              Như bệnh nhân trên, bác sĩ đã tư vấn về di truyền cho cả gia đình, lên kế hoạch điều trị cũng như tầm soát sớm tất cả thành viên\n",
       "1     32454        NEI                                                                                                                                                                                                                                                                                              \n",
       "2     41947  SUPPORTED  Trong khi tranh cãi còn chưa dứt về số tài liệu mật được Cục Điều tra Liên bang Mỹ (FBI) thu hồi từ dinh thự Mar-a-Lago của cựu tổng thống Donald Trump hồi năm ngoái, chính trường Mỹ tuần này lại một lần nữa xôn xao về những tài liệu đóng dấu mật không được bảo quản đúng nơi quy định\n",
       "3     47909    REFUTED                                                                                                                      Tiệm há cảo của anh Hùng có 8 vị nhân, được làm từ nhiều nguyên liệu khác nhau như mực, thịt bắp, gà lá chanh, thanh cua, thịt bò, thịt hẹ, xíu mại trứng cút, tôm thịt.\n",
       "4     46798    REFUTED                                                                                                              Đầm sen công viên thực vật cảnh Việt Nam\\n\\nCách trung tâm Thủ đô chừng 10km, công viên Thực vật cảnh Việt Nam là nơi sở hữu hơn 2 nghìn loài hoa và các gốc thực vật khác nhau.\n",
       "...     ...        ...                                                                                                                                                                                                                                                                                           ...\n",
       "4789  41870  SUPPORTED                                        Trước đó, truyền thông Tây Ban Nha dẫn thông báo từ cơ quan Phòng vệ Dân sự nước này cho biết hai công dân Việt Nam ngày 25/6 bị bắt tại đảo Mallorca, thuộc quần đảo Baleares, Tây Ban Nha, với cáo buộc cưỡng hiếp một cô gái 17 tuổi, quốc tịch Anh\n",
       "4790  47073    REFUTED                                                                                                                                                                          GEOS có thể phục vụ nghiên cứu hệ thống đại dương - khí quyển, phát thải carbon và giao thông ở độ phân giải cực cao\n",
       "4791  46617    REFUTED                                                                                                                                                 Trong hành trình, du khách sẽ được ngắm vịnh Hạ Long, vịnh Bái Tử Long, Đảo Ngọc Vừng, Quan Lạn, Minh Châu và toàn cảnh đảo Cô Tô từ trên cao\n",
       "4792  46410    REFUTED                                                                                                                                                                    Họ cũng lắp đặt những camera đặc biệt được thiết kế để kiểm tra đường ống nước nhằm tìm kiếm những ngóc ngách khó tiếp cận\n",
       "4793  46737        NEI                                                                                                                                                                                                                                                                                              \n",
       "\n",
       "[4794 rows x 3 columns]"
      ]
     },
     "execution_count": 19,
     "metadata": {},
     "output_type": "execute_result"
    }
   ],
   "source": [
    "best"
   ]
  },
  {
   "cell_type": "code",
   "execution_count": 20,
   "metadata": {},
   "outputs": [
    {
     "data": {
      "text/plain": [
       "verdict\n",
       "SUPPORTED    1693\n",
       "NEI          1655\n",
       "REFUTED      1446\n",
       "Name: count, dtype: int64"
      ]
     },
     "execution_count": 20,
     "metadata": {},
     "output_type": "execute_result"
    }
   ],
   "source": [
    "best.verdict.value_counts()"
   ]
  },
  {
   "cell_type": "code",
   "execution_count": 21,
   "metadata": {},
   "outputs": [
    {
     "data": {
      "text/plain": [
       "verdict\n",
       "SUPPORTED    1816\n",
       "REFUTED      1558\n",
       "NEI          1420\n",
       "Name: count, dtype: int64"
      ]
     },
     "execution_count": 21,
     "metadata": {},
     "output_type": "execute_result"
    }
   ],
   "source": [
    "new.verdict.value_counts()"
   ]
  },
  {
   "cell_type": "code",
   "execution_count": 22,
   "metadata": {},
   "outputs": [],
   "source": [
    "data_path = \"D:\\\\DUCBUI\\\\DSC\\\\dsc\\\\public_result_no_thredhold_freeze.json\"\n",
    "with open(data_path) as file:\n",
    "    data = json.load(file)\n"
   ]
  },
  {
   "cell_type": "code",
   "execution_count": 23,
   "metadata": {},
   "outputs": [],
   "source": [
    "def converdf1(data):\n",
    "    sample = []\n",
    "    for id, item in data.items():\n",
    "        data_sample = {}\n",
    "        data_sample['id'] = id\n",
    "        data_sample['verdict'] = item['verdict']\n",
    "        data_sample['evidence'] = item['evidence']\n",
    "        data_sample['percentages_rationale'] = item['percentages_rationale']\n",
    "        sample.append(data_sample)\n",
    "\n",
    "    return pd.DataFrame(sample)"
   ]
  },
  {
   "cell_type": "code",
   "execution_count": 24,
   "metadata": {},
   "outputs": [
    {
     "data": {
      "text/html": [
       "<div>\n",
       "<style scoped>\n",
       "    .dataframe tbody tr th:only-of-type {\n",
       "        vertical-align: middle;\n",
       "    }\n",
       "\n",
       "    .dataframe tbody tr th {\n",
       "        vertical-align: top;\n",
       "    }\n",
       "\n",
       "    .dataframe thead th {\n",
       "        text-align: right;\n",
       "    }\n",
       "</style>\n",
       "<table border=\"1\" class=\"dataframe\">\n",
       "  <thead>\n",
       "    <tr style=\"text-align: right;\">\n",
       "      <th></th>\n",
       "      <th>id</th>\n",
       "      <th>verdict</th>\n",
       "      <th>evidence</th>\n",
       "      <th>percentages_rationale</th>\n",
       "    </tr>\n",
       "  </thead>\n",
       "  <tbody>\n",
       "    <tr>\n",
       "      <th>0</th>\n",
       "      <td>29706</td>\n",
       "      <td>SUPPORTED</td>\n",
       "      <td>gia đình có người mắc các loại ung thư này cần được tư vấn về di truyền để đánh giá nguy cơ</td>\n",
       "      <td>0.975779</td>\n",
       "    </tr>\n",
       "    <tr>\n",
       "      <th>1</th>\n",
       "      <td>32454</td>\n",
       "      <td>REFUTED</td>\n",
       "      <td>tuy nhiên mba tập trung vào kỹ năng kinh doanh và quản lý</td>\n",
       "      <td>0.974910</td>\n",
       "    </tr>\n",
       "    <tr>\n",
       "      <th>2</th>\n",
       "      <td>41947</td>\n",
       "      <td>SUPPORTED</td>\n",
       "      <td>trong khi tranh cãi còn chưa dứt về số tài liệu mật được cục điều tra liên bang mỹ (fbi) thu hồi từ dinh thự maralago của cựu tổng thống donald trump hồi năm ngoái chính trường mỹ tuần này lại một lần nữa xôn xao về những tài liệu đóng dấu mật không được bảo quản đúng nơi quy định</td>\n",
       "      <td>0.998388</td>\n",
       "    </tr>\n",
       "    <tr>\n",
       "      <th>3</th>\n",
       "      <td>47909</td>\n",
       "      <td>REFUTED</td>\n",
       "      <td>tiệm há cảo của anh hùng có 8 vị nhân được làm từ nhiều nguyên liệu khác nhau như mực thịt bắp gà lá chanh thanh cua thịt bò thịt hẹ xíu mại trứng cút tôm thịt</td>\n",
       "      <td>0.994567</td>\n",
       "    </tr>\n",
       "    <tr>\n",
       "      <th>4</th>\n",
       "      <td>46798</td>\n",
       "      <td>REFUTED</td>\n",
       "      <td>đầm sen công viên thực vật cảnh việt nam cách trung tâm thủ đô chừng 10km công viên thực vật cảnh việt nam là nơi sở hữu hơn 2 nghìn loài hoa và các gốc thực vật khác nhau</td>\n",
       "      <td>0.990939</td>\n",
       "    </tr>\n",
       "    <tr>\n",
       "      <th>...</th>\n",
       "      <td>...</td>\n",
       "      <td>...</td>\n",
       "      <td>...</td>\n",
       "      <td>...</td>\n",
       "    </tr>\n",
       "    <tr>\n",
       "      <th>4789</th>\n",
       "      <td>41870</td>\n",
       "      <td>SUPPORTED</td>\n",
       "      <td>trước đó truyền thông tây ban nha dẫn thông báo từ cơ quan phòng vệ dân sự nước này cho biết hai công dân việt nam ngày 25/6 bị bắt tại đảo mallorca thuộc quần đảo baleares tây ban nha với cáo buộc cưỡng hiếp một cô gái 17 tuổi quốc tịch anh</td>\n",
       "      <td>0.977006</td>\n",
       "    </tr>\n",
       "    <tr>\n",
       "      <th>4790</th>\n",
       "      <td>47073</td>\n",
       "      <td>REFUTED</td>\n",
       "      <td>geos có thể phục vụ nghiên cứu hệ thống đại dương khí quyển phát thải carbon và giao thông ở độ phân giải cực cao</td>\n",
       "      <td>0.985543</td>\n",
       "    </tr>\n",
       "    <tr>\n",
       "      <th>4791</th>\n",
       "      <td>46617</td>\n",
       "      <td>REFUTED</td>\n",
       "      <td>trong hành trình du khách sẽ được ngắm vịnh hạ long vịnh bái tử long đảo ngọc vừng quan lạn minh châu và toàn cảnh đảo cô tô từ trên cao</td>\n",
       "      <td>0.989354</td>\n",
       "    </tr>\n",
       "    <tr>\n",
       "      <th>4792</th>\n",
       "      <td>46410</td>\n",
       "      <td>REFUTED</td>\n",
       "      <td>họ cũng lắp đặt những camera đặc biệt được thiết kế để kiểm tra đường ống nước nhằm tìm kiếm những ngóc ngách khó tiếp cận</td>\n",
       "      <td>0.974538</td>\n",
       "    </tr>\n",
       "    <tr>\n",
       "      <th>4793</th>\n",
       "      <td>46737</td>\n",
       "      <td>REFUTED</td>\n",
       "      <td>chủ quan ông steven qin cho biết mình đang tặng phiếu cắt tóc miễn phí cho những người chi ít nhất 20 sgd để mua sầu riêng tại gian hàng tạm thời của ông</td>\n",
       "      <td>0.999884</td>\n",
       "    </tr>\n",
       "  </tbody>\n",
       "</table>\n",
       "<p>4794 rows × 4 columns</p>\n",
       "</div>"
      ],
      "text/plain": [
       "         id    verdict                                                                                                                                                                                                                                                                                   evidence  percentages_rationale\n",
       "0     29706  SUPPORTED                                                                                                                                                                                                gia đình có người mắc các loại ung thư này cần được tư vấn về di truyền để đánh giá nguy cơ               0.975779\n",
       "1     32454    REFUTED                                                                                                                                                                                                                                  tuy nhiên mba tập trung vào kỹ năng kinh doanh và quản lý               0.974910\n",
       "2     41947  SUPPORTED  trong khi tranh cãi còn chưa dứt về số tài liệu mật được cục điều tra liên bang mỹ (fbi) thu hồi từ dinh thự maralago của cựu tổng thống donald trump hồi năm ngoái chính trường mỹ tuần này lại một lần nữa xôn xao về những tài liệu đóng dấu mật không được bảo quản đúng nơi quy định               0.998388\n",
       "3     47909    REFUTED                                                                                                                            tiệm há cảo của anh hùng có 8 vị nhân được làm từ nhiều nguyên liệu khác nhau như mực thịt bắp gà lá chanh thanh cua thịt bò thịt hẹ xíu mại trứng cút tôm thịt               0.994567\n",
       "4     46798    REFUTED                                                                                                                đầm sen công viên thực vật cảnh việt nam cách trung tâm thủ đô chừng 10km công viên thực vật cảnh việt nam là nơi sở hữu hơn 2 nghìn loài hoa và các gốc thực vật khác nhau               0.990939\n",
       "...     ...        ...                                                                                                                                                                                                                                                                                        ...                    ...\n",
       "4789  41870  SUPPORTED                                          trước đó truyền thông tây ban nha dẫn thông báo từ cơ quan phòng vệ dân sự nước này cho biết hai công dân việt nam ngày 25/6 bị bắt tại đảo mallorca thuộc quần đảo baleares tây ban nha với cáo buộc cưỡng hiếp một cô gái 17 tuổi quốc tịch anh               0.977006\n",
       "4790  47073    REFUTED                                                                                                                                                                          geos có thể phục vụ nghiên cứu hệ thống đại dương khí quyển phát thải carbon và giao thông ở độ phân giải cực cao               0.985543\n",
       "4791  46617    REFUTED                                                                                                                                                   trong hành trình du khách sẽ được ngắm vịnh hạ long vịnh bái tử long đảo ngọc vừng quan lạn minh châu và toàn cảnh đảo cô tô từ trên cao               0.989354\n",
       "4792  46410    REFUTED                                                                                                                                                                 họ cũng lắp đặt những camera đặc biệt được thiết kế để kiểm tra đường ống nước nhằm tìm kiếm những ngóc ngách khó tiếp cận               0.974538\n",
       "4793  46737    REFUTED                                                                                                                                  chủ quan ông steven qin cho biết mình đang tặng phiếu cắt tóc miễn phí cho những người chi ít nhất 20 sgd để mua sầu riêng tại gian hàng tạm thời của ông               0.999884\n",
       "\n",
       "[4794 rows x 4 columns]"
      ]
     },
     "execution_count": 24,
     "metadata": {},
     "output_type": "execute_result"
    }
   ],
   "source": [
    "df = converdf1(data)\n",
    "df"
   ]
  },
  {
   "cell_type": "code",
   "execution_count": 25,
   "metadata": {},
   "outputs": [
    {
     "data": {
      "text/plain": [
       "verdict\n",
       "SUPPORTED    3251\n",
       "REFUTED      1543\n",
       "Name: count, dtype: int64"
      ]
     },
     "execution_count": 25,
     "metadata": {},
     "output_type": "execute_result"
    }
   ],
   "source": [
    "df.verdict.value_counts()"
   ]
  },
  {
   "cell_type": "code",
   "execution_count": 26,
   "metadata": {},
   "outputs": [],
   "source": [
    "public_result = {}\n",
    "for id, item in data.items():\n",
    "  public_result[id] = {}\n",
    "  if item['percentages_rationale'] >= 0.74:\n",
    "    public_result[id]['verdict'] = item[\"verdict\"]\n",
    "    public_result[id]['evidence'] = item['evidence']\n",
    "  else:\n",
    "    public_result[id]['verdict'] = \"NEI\"\n",
    "    public_result[id]['evidence'] = \"\"\n",
    "\n",
    "with open(\"D:\\\\DUCBUI\\\\DSC\\\\dsc\\\\0.74\\\\public_result.json\", \"w\", encoding=\"utf-8\") as file:\n",
    "  json.dump(public_result, file, ensure_ascii=False)"
   ]
  },
  {
   "cell_type": "code",
   "execution_count": 27,
   "metadata": {},
   "outputs": [
    {
     "data": {
      "text/plain": [
       "verdict\n",
       "SUPPORTED    3251\n",
       "REFUTED      1543\n",
       "Name: count, dtype: int64"
      ]
     },
     "execution_count": 27,
     "metadata": {},
     "output_type": "execute_result"
    }
   ],
   "source": [
    "df1 = converdf(public_result)\n",
    "df1.verdict.value_counts()"
   ]
  },
  {
   "cell_type": "code",
   "execution_count": 28,
   "metadata": {},
   "outputs": [
    {
     "ename": "SyntaxError",
     "evalue": "invalid syntax (610391050.py, line 1)",
     "output_type": "error",
     "traceback": [
      "\u001b[1;36m  Cell \u001b[1;32mIn[28], line 1\u001b[1;36m\u001b[0m\n\u001b[1;33m    verdict 0.6\u001b[0m\n\u001b[1;37m            ^\u001b[0m\n\u001b[1;31mSyntaxError\u001b[0m\u001b[1;31m:\u001b[0m invalid syntax\n"
     ]
    }
   ],
   "source": [
    "verdict 0.6\n",
    "SUPPORTED    2191\n",
    "REFUTED      1569\n",
    "NEI          1034\n",
    "Name: count, dtype: int64\n",
    "\n",
    "verdict 0.63\n",
    "SUPPORTED    2039\n",
    "REFUTED      1567\n",
    "NEI          1188\n",
    "Name: count, dtype: int64\n",
    "\n",
    "verdict 0.66\n",
    "SUPPORTED    1903\n",
    "REFUTED      1563\n",
    "NEI          1328\n",
    "Name: count, dtype: int64\n",
    "\n",
    "verdict 0.682\n",
    "SUPPORTED    1816\n",
    "REFUTED      1558\n",
    "NEI          1420\n",
    "Name: count, dtype: int64\n",
    "\n",
    "verdict 0.7\n",
    "SUPPORTED    1738\n",
    "REFUTED      1552\n",
    "NEI          1504\n",
    "Name: count, dtype: int64\n",
    "\n",
    "verdict 0.74\n",
    "NEI          1678\n",
    "SUPPORTED    1582\n",
    "REFUTED      1534\n",
    "Name: count, dtype: int64\n"
   ]
  }
 ],
 "metadata": {
  "kernelspec": {
   "display_name": "nlp",
   "language": "python",
   "name": "python3"
  },
  "language_info": {
   "codemirror_mode": {
    "name": "ipython",
    "version": 3
   },
   "file_extension": ".py",
   "mimetype": "text/x-python",
   "name": "python",
   "nbconvert_exporter": "python",
   "pygments_lexer": "ipython3",
   "version": "3.9.18"
  }
 },
 "nbformat": 4,
 "nbformat_minor": 2
}
